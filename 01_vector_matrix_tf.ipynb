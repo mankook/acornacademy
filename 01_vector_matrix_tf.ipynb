{
  "nbformat": 4,
  "nbformat_minor": 0,
  "metadata": {
    "colab": {
      "name": "01_vector_matrix_tf.ipynb",
      "provenance": [],
      "collapsed_sections": [],
      "mount_file_id": "1XfTsJHVyqtX7O-vH5KtzDiZSkOyRmOaJ",
      "authorship_tag": "ABX9TyNbWJhv9EhHG1AQI8fP7GkC",
      "include_colab_link": true
    },
    "kernelspec": {
      "name": "python3",
      "display_name": "Python 3"
    },
    "language_info": {
      "name": "python"
    }
  },
  "cells": [
    {
      "cell_type": "markdown",
      "metadata": {
        "id": "view-in-github",
        "colab_type": "text"
      },
      "source": [
        "<a href=\"https://colab.research.google.com/github/mankook/acornacademy/blob/master/01_vector_matrix_tf.ipynb\" target=\"_parent\"><img src=\"https://colab.research.google.com/assets/colab-badge.svg\" alt=\"Open In Colab\"/></a>"
      ]
    },
    {
      "cell_type": "markdown",
      "source": [
        "# Tensorflow 학습 "
      ],
      "metadata": {
        "id": "P2RuIRTJZNLX"
      }
    },
    {
      "cell_type": "markdown",
      "source": [
        ""
      ],
      "metadata": {
        "id": "cRgyRmuNfuTm"
      }
    },
    {
      "cell_type": "markdown",
      "source": [
        "# colab을 사용하는 이윺\n",
        "- GPU를 사용가능 \n",
        "- 컴퓨터 한대를 무료 사용\n",
        "- 기반 시스템 : ubuntu \n",
        "- 저장공간은 google drive에 저장 \n"
      ],
      "metadata": {
        "id": "22oFrWqTbUOv"
      }
    },
    {
      "cell_type": "code",
      "execution_count": 4,
      "metadata": {
        "colab": {
          "base_uri": "https://localhost:8080/"
        },
        "id": "w6NblnQoYqbb",
        "outputId": "30a3141a-11c1-4a67-d0c1-62dde9adb42d"
      },
      "outputs": [
        {
          "output_type": "stream",
          "name": "stdout",
          "text": [
            "1.15.2\n",
            "2.2.4-tf\n"
          ]
        }
      ],
      "source": [
        "%tensorflow_version 1.x\n",
        "import tensorflow as tf\n",
        "print(tf.__version__)  \n",
        "from tensorflow import keras\n",
        "print(keras.__version__)"
      ]
    },
    {
      "cell_type": "code",
      "source": [
        "import tensorflow as tf\n",
        "tf.test.gpu_device_name()"
      ],
      "metadata": {
        "colab": {
          "base_uri": "https://localhost:8080/",
          "height": 36
        },
        "id": "FiOhyh3taJeG",
        "outputId": "0e1136e4-a4c7-414a-b028-38d3f755da3d"
      },
      "execution_count": null,
      "outputs": [
        {
          "output_type": "execute_result",
          "data": {
            "text/plain": [
              "'/device:GPU:0'"
            ],
            "application/vnd.google.colaboratory.intrinsic+json": {
              "type": "string"
            }
          },
          "metadata": {},
          "execution_count": 1
        }
      ]
    },
    {
      "cell_type": "code",
      "source": [
        "from tensorflow.python.client import device_lib\n",
        "device_lib.list_local_devices()"
      ],
      "metadata": {
        "colab": {
          "base_uri": "https://localhost:8080/"
        },
        "id": "-wGkxlbJaRZ-",
        "outputId": "4a4fcb55-2f70-40d1-c77b-1c67014eb2e0"
      },
      "execution_count": null,
      "outputs": [
        {
          "output_type": "execute_result",
          "data": {
            "text/plain": [
              "[name: \"/device:CPU:0\"\n",
              " device_type: \"CPU\"\n",
              " memory_limit: 268435456\n",
              " locality {\n",
              " }\n",
              " incarnation: 13932407433494015126\n",
              " xla_global_id: -1, name: \"/device:GPU:0\"\n",
              " device_type: \"GPU\"\n",
              " memory_limit: 16154099712\n",
              " locality {\n",
              "   bus_id: 1\n",
              "   links {\n",
              "   }\n",
              " }\n",
              " incarnation: 2667352307228307424\n",
              " physical_device_desc: \"device: 0, name: Tesla P100-PCIE-16GB, pci bus id: 0000:00:04.0, compute capability: 6.0\"\n",
              " xla_global_id: 416903419]"
            ]
          },
          "metadata": {},
          "execution_count": 2
        }
      ]
    },
    {
      "cell_type": "code",
      "source": [
        "# 현재 디렉터리의 내용을 확인 : 멀티 유저 마다 디렉터리를 제공 (home) \n",
        "#!ls   # window command : dir \n",
        "#!ls /bin  # 리눅스의 최상위 폴더   / 로 시작 \n",
        "!cd /\n",
        "!ls"
      ],
      "metadata": {
        "colab": {
          "base_uri": "https://localhost:8080/"
        },
        "id": "wPzXzIIXhL3h",
        "outputId": "dc461587-ced0-446b-8cac-3f700d20f297"
      },
      "execution_count": null,
      "outputs": [
        {
          "output_type": "stream",
          "name": "stdout",
          "text": [
            "sample_data\n"
          ]
        }
      ]
    },
    {
      "cell_type": "code",
      "source": [
        "!ls /bin"
      ],
      "metadata": {
        "colab": {
          "base_uri": "https://localhost:8080/"
        },
        "id": "s4yc_m4kih1a",
        "outputId": "75f3cce0-f8b6-436e-8eb0-2cd63f30aaa4"
      },
      "execution_count": null,
      "outputs": [
        {
          "output_type": "stream",
          "name": "stdout",
          "text": [
            "bash\t       hostname       su\n",
            "bunzip2        journalctl     sync\n",
            "bzcat\t       kill\t      systemctl\n",
            "bzcmp\t       kmod\t      systemd\n",
            "bzdiff\t       less\t      systemd-ask-password\n",
            "bzegrep        lessecho       systemd-escape\n",
            "bzexe\t       lessfile       systemd-hwdb\n",
            "bzfgrep        lesskey\t      systemd-inhibit\n",
            "bzgrep\t       lesspipe       systemd-machine-id-setup\n",
            "bzip2\t       ln\t      systemd-notify\n",
            "bzip2recover   login\t      systemd-sysusers\n",
            "bzless\t       loginctl       systemd-tmpfiles\n",
            "bzmore\t       ls\t      systemd-tty-ask-password-agent\n",
            "cat\t       lsblk\t      tar\n",
            "chgrp\t       lsmod\t      tempfile\n",
            "chmod\t       mkdir\t      touch\n",
            "chown\t       mknod\t      true\n",
            "cp\t       mktemp\t      udevadm\n",
            "dash\t       more\t      ulockmgr_server\n",
            "date\t       mount\t      umount\n",
            "dd\t       mountpoint     uname\n",
            "df\t       mv\t      uncompress\n",
            "dir\t       networkctl     vdir\n",
            "dmesg\t       nisdomainname  wdctl\n",
            "dnsdomainname  pidof\t      which\n",
            "domainname     ps\t      ypdomainname\n",
            "echo\t       pwd\t      zcat\n",
            "egrep\t       rbash\t      zcmp\n",
            "false\t       readlink       zdiff\n",
            "fgrep\t       rm\t      zegrep\n",
            "findmnt        rmdir\t      zfgrep\n",
            "fuser\t       run-parts      zforce\n",
            "fusermount     sed\t      zgrep\n",
            "grep\t       sh\t      zless\n",
            "gunzip\t       sh.distrib     zmore\n",
            "gzexe\t       sleep\t      znew\n",
            "gzip\t       stty\n"
          ]
        }
      ]
    },
    {
      "cell_type": "code",
      "source": [
        "!mkdir 'data'"
      ],
      "metadata": {
        "id": "vtoxr8fNjMsx"
      },
      "execution_count": null,
      "outputs": []
    },
    {
      "cell_type": "code",
      "source": [
        "!ls"
      ],
      "metadata": {
        "colab": {
          "base_uri": "https://localhost:8080/"
        },
        "id": "6_4Wgi4Eik7v",
        "outputId": "75c0927c-fe75-44bf-e1bd-b4e5ad0d9bbd"
      },
      "execution_count": null,
      "outputs": [
        {
          "output_type": "stream",
          "name": "stdout",
          "text": [
            "data  sample_data\n"
          ]
        }
      ]
    },
    {
      "cell_type": "code",
      "source": [
        "cd ..  # cd는 !없이 사용할 것 "
      ],
      "metadata": {
        "colab": {
          "base_uri": "https://localhost:8080/"
        },
        "id": "HBZrtf9ejRhP",
        "outputId": "14ac1d7c-57ec-4b3b-a052-132c4f86230a"
      },
      "execution_count": null,
      "outputs": [
        {
          "output_type": "stream",
          "name": "stdout",
          "text": [
            "/\n"
          ]
        }
      ]
    },
    {
      "cell_type": "code",
      "source": [
        "cd /content/data"
      ],
      "metadata": {
        "colab": {
          "base_uri": "https://localhost:8080/"
        },
        "id": "DTwS13_TjzpC",
        "outputId": "a8eab274-ea18-4bf1-921d-37f79201070a"
      },
      "execution_count": null,
      "outputs": [
        {
          "output_type": "stream",
          "name": "stdout",
          "text": [
            "/content/data\n"
          ]
        }
      ]
    },
    {
      "cell_type": "code",
      "source": [
        "!ls"
      ],
      "metadata": {
        "colab": {
          "base_uri": "https://localhost:8080/"
        },
        "id": "6aGEQzsEjUPI",
        "outputId": "dbbf2bb1-f91e-4ee0-84a2-8fbfbb216cb0"
      },
      "execution_count": null,
      "outputs": [
        {
          "output_type": "stream",
          "name": "stdout",
          "text": [
            "bin\t datalab  home\t lib64\topt\t    root  srv\t\t     tmp    var\n",
            "boot\t dev\t  lib\t media\tproc\t    run   sys\t\t     tools\n",
            "content  etc\t  lib32  mnt\tpython-apt  sbin  tensorflow-1.15.2  usr\n"
          ]
        }
      ]
    },
    {
      "cell_type": "code",
      "source": [
        "cd     /content/drive/MyDrive/dataset"
      ],
      "metadata": {
        "colab": {
          "base_uri": "https://localhost:8080/"
        },
        "id": "DHVSbdo2kkvx",
        "outputId": "715268be-fbde-41b6-f9cb-f28bc27195f8"
      },
      "execution_count": null,
      "outputs": [
        {
          "output_type": "stream",
          "name": "stdout",
          "text": [
            "/content/drive/MyDrive/dataset\n"
          ]
        }
      ]
    },
    {
      "cell_type": "code",
      "source": [
        "!ls"
      ],
      "metadata": {
        "colab": {
          "base_uri": "https://localhost:8080/"
        },
        "id": "-O84XnhtlFUZ",
        "outputId": "a6172539-e86f-4406-f278-8157069e64d0"
      },
      "execution_count": null,
      "outputs": [
        {
          "output_type": "stream",
          "name": "stdout",
          "text": [
            "pima.csv\n"
          ]
        }
      ]
    },
    {
      "cell_type": "code",
      "source": [
        "import pandas as pd\n",
        "# False , 0 \n",
        "df=pd.read_csv(\"pima.csv\", index_col = 0)\n",
        "df.head()"
      ],
      "metadata": {
        "colab": {
          "base_uri": "https://localhost:8080/",
          "height": 206
        },
        "id": "Oq3cVkQAl_ca",
        "outputId": "090a0cf2-91d5-467c-e17f-39089e8da665"
      },
      "execution_count": null,
      "outputs": [
        {
          "output_type": "execute_result",
          "data": {
            "text/plain": [
              "   npreg  glu  bp  skin   bmi    ped  age type\n",
              "1      6  148  72    35  33.6  0.627   50  Yes\n",
              "2      1   85  66    29  26.6  0.351   31   No\n",
              "3      1   89  66    23  28.1  0.167   21   No\n",
              "4      3   78  50    32  31.0  0.248   26  Yes\n",
              "5      2  197  70    45  30.5  0.158   53  Yes"
            ],
            "text/html": [
              "\n",
              "  <div id=\"df-c99e6081-e76f-4204-95ec-8a04e1b620ad\">\n",
              "    <div class=\"colab-df-container\">\n",
              "      <div>\n",
              "<style scoped>\n",
              "    .dataframe tbody tr th:only-of-type {\n",
              "        vertical-align: middle;\n",
              "    }\n",
              "\n",
              "    .dataframe tbody tr th {\n",
              "        vertical-align: top;\n",
              "    }\n",
              "\n",
              "    .dataframe thead th {\n",
              "        text-align: right;\n",
              "    }\n",
              "</style>\n",
              "<table border=\"1\" class=\"dataframe\">\n",
              "  <thead>\n",
              "    <tr style=\"text-align: right;\">\n",
              "      <th></th>\n",
              "      <th>npreg</th>\n",
              "      <th>glu</th>\n",
              "      <th>bp</th>\n",
              "      <th>skin</th>\n",
              "      <th>bmi</th>\n",
              "      <th>ped</th>\n",
              "      <th>age</th>\n",
              "      <th>type</th>\n",
              "    </tr>\n",
              "  </thead>\n",
              "  <tbody>\n",
              "    <tr>\n",
              "      <th>1</th>\n",
              "      <td>6</td>\n",
              "      <td>148</td>\n",
              "      <td>72</td>\n",
              "      <td>35</td>\n",
              "      <td>33.6</td>\n",
              "      <td>0.627</td>\n",
              "      <td>50</td>\n",
              "      <td>Yes</td>\n",
              "    </tr>\n",
              "    <tr>\n",
              "      <th>2</th>\n",
              "      <td>1</td>\n",
              "      <td>85</td>\n",
              "      <td>66</td>\n",
              "      <td>29</td>\n",
              "      <td>26.6</td>\n",
              "      <td>0.351</td>\n",
              "      <td>31</td>\n",
              "      <td>No</td>\n",
              "    </tr>\n",
              "    <tr>\n",
              "      <th>3</th>\n",
              "      <td>1</td>\n",
              "      <td>89</td>\n",
              "      <td>66</td>\n",
              "      <td>23</td>\n",
              "      <td>28.1</td>\n",
              "      <td>0.167</td>\n",
              "      <td>21</td>\n",
              "      <td>No</td>\n",
              "    </tr>\n",
              "    <tr>\n",
              "      <th>4</th>\n",
              "      <td>3</td>\n",
              "      <td>78</td>\n",
              "      <td>50</td>\n",
              "      <td>32</td>\n",
              "      <td>31.0</td>\n",
              "      <td>0.248</td>\n",
              "      <td>26</td>\n",
              "      <td>Yes</td>\n",
              "    </tr>\n",
              "    <tr>\n",
              "      <th>5</th>\n",
              "      <td>2</td>\n",
              "      <td>197</td>\n",
              "      <td>70</td>\n",
              "      <td>45</td>\n",
              "      <td>30.5</td>\n",
              "      <td>0.158</td>\n",
              "      <td>53</td>\n",
              "      <td>Yes</td>\n",
              "    </tr>\n",
              "  </tbody>\n",
              "</table>\n",
              "</div>\n",
              "      <button class=\"colab-df-convert\" onclick=\"convertToInteractive('df-c99e6081-e76f-4204-95ec-8a04e1b620ad')\"\n",
              "              title=\"Convert this dataframe to an interactive table.\"\n",
              "              style=\"display:none;\">\n",
              "        \n",
              "  <svg xmlns=\"http://www.w3.org/2000/svg\" height=\"24px\"viewBox=\"0 0 24 24\"\n",
              "       width=\"24px\">\n",
              "    <path d=\"M0 0h24v24H0V0z\" fill=\"none\"/>\n",
              "    <path d=\"M18.56 5.44l.94 2.06.94-2.06 2.06-.94-2.06-.94-.94-2.06-.94 2.06-2.06.94zm-11 1L8.5 8.5l.94-2.06 2.06-.94-2.06-.94L8.5 2.5l-.94 2.06-2.06.94zm10 10l.94 2.06.94-2.06 2.06-.94-2.06-.94-.94-2.06-.94 2.06-2.06.94z\"/><path d=\"M17.41 7.96l-1.37-1.37c-.4-.4-.92-.59-1.43-.59-.52 0-1.04.2-1.43.59L10.3 9.45l-7.72 7.72c-.78.78-.78 2.05 0 2.83L4 21.41c.39.39.9.59 1.41.59.51 0 1.02-.2 1.41-.59l7.78-7.78 2.81-2.81c.8-.78.8-2.07 0-2.86zM5.41 20L4 18.59l7.72-7.72 1.47 1.35L5.41 20z\"/>\n",
              "  </svg>\n",
              "      </button>\n",
              "      \n",
              "  <style>\n",
              "    .colab-df-container {\n",
              "      display:flex;\n",
              "      flex-wrap:wrap;\n",
              "      gap: 12px;\n",
              "    }\n",
              "\n",
              "    .colab-df-convert {\n",
              "      background-color: #E8F0FE;\n",
              "      border: none;\n",
              "      border-radius: 50%;\n",
              "      cursor: pointer;\n",
              "      display: none;\n",
              "      fill: #1967D2;\n",
              "      height: 32px;\n",
              "      padding: 0 0 0 0;\n",
              "      width: 32px;\n",
              "    }\n",
              "\n",
              "    .colab-df-convert:hover {\n",
              "      background-color: #E2EBFA;\n",
              "      box-shadow: 0px 1px 2px rgba(60, 64, 67, 0.3), 0px 1px 3px 1px rgba(60, 64, 67, 0.15);\n",
              "      fill: #174EA6;\n",
              "    }\n",
              "\n",
              "    [theme=dark] .colab-df-convert {\n",
              "      background-color: #3B4455;\n",
              "      fill: #D2E3FC;\n",
              "    }\n",
              "\n",
              "    [theme=dark] .colab-df-convert:hover {\n",
              "      background-color: #434B5C;\n",
              "      box-shadow: 0px 1px 3px 1px rgba(0, 0, 0, 0.15);\n",
              "      filter: drop-shadow(0px 1px 2px rgba(0, 0, 0, 0.3));\n",
              "      fill: #FFFFFF;\n",
              "    }\n",
              "  </style>\n",
              "\n",
              "      <script>\n",
              "        const buttonEl =\n",
              "          document.querySelector('#df-c99e6081-e76f-4204-95ec-8a04e1b620ad button.colab-df-convert');\n",
              "        buttonEl.style.display =\n",
              "          google.colab.kernel.accessAllowed ? 'block' : 'none';\n",
              "\n",
              "        async function convertToInteractive(key) {\n",
              "          const element = document.querySelector('#df-c99e6081-e76f-4204-95ec-8a04e1b620ad');\n",
              "          const dataTable =\n",
              "            await google.colab.kernel.invokeFunction('convertToInteractive',\n",
              "                                                     [key], {});\n",
              "          if (!dataTable) return;\n",
              "\n",
              "          const docLinkHtml = 'Like what you see? Visit the ' +\n",
              "            '<a target=\"_blank\" href=https://colab.research.google.com/notebooks/data_table.ipynb>data table notebook</a>'\n",
              "            + ' to learn more about interactive tables.';\n",
              "          element.innerHTML = '';\n",
              "          dataTable['output_type'] = 'display_data';\n",
              "          await google.colab.output.renderOutput(dataTable, element);\n",
              "          const docLink = document.createElement('div');\n",
              "          docLink.innerHTML = docLinkHtml;\n",
              "          element.appendChild(docLink);\n",
              "        }\n",
              "      </script>\n",
              "    </div>\n",
              "  </div>\n",
              "  "
            ]
          },
          "metadata": {},
          "execution_count": 56
        }
      ]
    },
    {
      "cell_type": "code",
      "source": [
        "import numpy as np\n",
        "import numpy.linalg\n",
        "A = np.array([[1,-1,2],[3,2,0]]) # 2행 3열\n",
        "print(A)\n",
        "v = np.array([1,2,3]) \n",
        "print(\"행벡터\", v)\n",
        "v = np.array( [[2],[1],[3]])\n",
        "print(\"3행1열벡터\",v)\n",
        "print(\"전치\")\n",
        "v = np.transpose(np.array([[2,1,3]])) # 면과 행이 변경\n",
        "print(v)\n",
        "\n",
        "w = np.dot(A,v) # 2x3  3x1 => 2x1\n",
        "print(\"내적의 결과 \")\n",
        "print(w)"
      ],
      "metadata": {
        "id": "SPrCLPirZi8d",
        "colab": {
          "base_uri": "https://localhost:8080/"
        },
        "outputId": "25bda7da-8a6e-42f6-c90e-3dfbc1f6d24f"
      },
      "execution_count": 58,
      "outputs": [
        {
          "output_type": "stream",
          "name": "stdout",
          "text": [
            "[[ 1 -1  2]\n",
            " [ 3  2  0]]\n",
            "행벡터 [1 2 3]\n",
            "3행1열벡터 [[2]\n",
            " [1]\n",
            " [3]]\n",
            "전치\n",
            "[[2]\n",
            " [1]\n",
            " [3]]\n",
            "내적의 결과 \n",
            "[[7]\n",
            " [8]]\n"
          ]
        }
      ]
    },
    {
      "cell_type": "code",
      "source": [
        "# 내적은 두 벡터의 순서가 없다. ( 크기를 고려한 사이각 )\n",
        "v = np.array([9,  10])\n",
        "w = np.array([11, 12])\n",
        "\n",
        "print(\"벡터내적\", v.dot(w))\n",
        "print(\"벡터내적\", np.dot(v, w))\n",
        "print(\"벡터내적\", np.dot(w, v))"
      ],
      "metadata": {
        "colab": {
          "base_uri": "https://localhost:8080/"
        },
        "id": "AzxuOff3n7u5",
        "outputId": "86bdba43-4820-4a9b-e3eb-6148f80d2f64"
      },
      "execution_count": 59,
      "outputs": [
        {
          "output_type": "stream",
          "name": "stdout",
          "text": [
            "벡터내적 219\n",
            "벡터내적 219\n",
            "벡터내적 219\n"
          ]
        }
      ]
    },
    {
      "cell_type": "code",
      "source": [
        "from numpy import linalg as LA\n",
        "x = np.array([1.0,1.0])\n",
        "print(\"2차원\",LA.norm(x))  \n",
        "x = np.array([1.0,1.0,1.0]) \n",
        "print(\"3차원\",LA.norm(x))\n",
        "x = np.array([1.0,1.0,1.0,1.0]) \n",
        "print(\"4차원\",LA.norm(x))\n",
        "a = np.arange(9) - 4\n",
        "print(a)\n",
        "\n",
        "b = a.reshape((3, 3)) \n",
        "print(b)\n",
        "# norm에 넣으면 벡터로 취급한다. ( 데이터는 메모리에 직선으로 저장 )\n",
        "print(LA.norm(a))\n",
        "LA.norm(b)"
      ],
      "metadata": {
        "colab": {
          "base_uri": "https://localhost:8080/"
        },
        "id": "hbxmsIU8onO3",
        "outputId": "b1b2407a-6342-461a-ad20-d6a8d12e36d8"
      },
      "execution_count": 61,
      "outputs": [
        {
          "output_type": "stream",
          "name": "stdout",
          "text": [
            "2차원 1.4142135623730951\n",
            "3차원 1.7320508075688772\n",
            "4차원 2.0\n",
            "[-4 -3 -2 -1  0  1  2  3  4]\n",
            "[[-4 -3 -2]\n",
            " [-1  0  1]\n",
            " [ 2  3  4]]\n",
            "7.745966692414834\n"
          ]
        },
        {
          "output_type": "execute_result",
          "data": {
            "text/plain": [
              "7.745966692414834"
            ]
          },
          "metadata": {},
          "execution_count": 61
        }
      ]
    },
    {
      "cell_type": "code",
      "source": [
        "# 문제 : 두벡터의 사이각이 얼마인지 구하시요 \n",
        "# A 내적 B = |A| |B| cos theta \n",
        "a = np.array([0,1,0])\n",
        "b = np.array([1,0,0])\n",
        "\n",
        "res = np.dot(a,b)\n",
        "rad = res / (np.linalg.norm(a) * np.linalg.norm(b))\n",
        "theta = np.arccos(rad)\n",
        "print(\"두벡터의 사이각은 = \", np.degrees(theta))"
      ],
      "metadata": {
        "colab": {
          "base_uri": "https://localhost:8080/"
        },
        "id": "_Pqi1nDLqZYh",
        "outputId": "b2412ffd-b0c2-4e05-be69-e5f8933f2532"
      },
      "execution_count": 62,
      "outputs": [
        {
          "output_type": "stream",
          "name": "stdout",
          "text": [
            "두벡터의 사이각은 =  90.0\n"
          ]
        }
      ]
    },
    {
      "cell_type": "code",
      "source": [
        "# dot과 matmul의 차이 ( 앞의 행렬의 열수와 뒤의 행렬의 행수가 일치 )\n",
        "A = np.arange(2*3*4).reshape((2,3,4))\n",
        "B = np.arange(2*3*4).reshape((2,4,3))\n",
        "print(\"내적 : \", np.dot(A,B).shape) # 내적 \n",
        "print(\"행렬곱 : \", np.matmul(A,B).shape) # 행렬곱 ( 내부적으로 내적의 연속 )"
      ],
      "metadata": {
        "colab": {
          "base_uri": "https://localhost:8080/"
        },
        "id": "1Nd_jUNaw9uo",
        "outputId": "4e40a251-4596-46cc-a9b4-d264d237891a"
      },
      "execution_count": 63,
      "outputs": [
        {
          "output_type": "stream",
          "name": "stdout",
          "text": [
            "내적 :  (2, 3, 2, 3)\n",
            "행렬곱 :  (2, 3, 3)\n"
          ]
        }
      ]
    },
    {
      "cell_type": "code",
      "source": [
        "# broadcasting\n",
        "B = np.arange(3*4).reshape((4,3))\n",
        "print(\"행렬곱 : \", np.matmul(A,B).shape) # 행렬곱 ( 내부적으로 내적의 연속 )"
      ],
      "metadata": {
        "colab": {
          "base_uri": "https://localhost:8080/"
        },
        "id": "1NATDYJbyQbI",
        "outputId": "a1e3edb5-9c00-4643-c462-066af0e00a8f"
      },
      "execution_count": 64,
      "outputs": [
        {
          "output_type": "stream",
          "name": "stdout",
          "text": [
            "행렬곱 :  (2, 3, 3)\n"
          ]
        }
      ]
    },
    {
      "cell_type": "code",
      "source": [
        "# 행렬곱의 의미 "
      ],
      "metadata": {
        "id": "omxhI26lypGK"
      },
      "execution_count": null,
      "outputs": []
    },
    {
      "cell_type": "code",
      "source": [
        "# 고유값 분해 ( 고유치, 고유벡터 )\n",
        "line = np.array([2,4,6])\n",
        "#축표현( 방향으로 표시 )\n",
        "xa = np.array([1,0,0])\n",
        "ya = np.array([0,1,0])\n",
        "za = np.array([0,0,1])\n",
        "print(\"x축으로 투영 \", line.dot(xa))\n",
        "print(\"y축으로 투영 \", line.dot(ya))\n",
        "print(\"z축으로 투영 \", line.dot(za))"
      ],
      "metadata": {
        "colab": {
          "base_uri": "https://localhost:8080/"
        },
        "id": "VbkaxcGUysop",
        "outputId": "a085cbbb-7ef7-454c-b586-e585e77ad997"
      },
      "execution_count": 66,
      "outputs": [
        {
          "output_type": "stream",
          "name": "stdout",
          "text": [
            "x축으로 투영  2\n",
            "y축으로 투영  4\n",
            "z축으로 투영  6\n"
          ]
        }
      ]
    },
    {
      "cell_type": "code",
      "source": [
        "print(line.dot(xa) *xa )\n",
        "print(line.dot(ya) *ya )\n",
        "print(line.dot(za) *za )"
      ],
      "metadata": {
        "colab": {
          "base_uri": "https://localhost:8080/"
        },
        "id": "XIt1wTBVy0ky",
        "outputId": "0dce0e6d-8a26-47cc-8b2d-6b228403b602"
      },
      "execution_count": 67,
      "outputs": [
        {
          "output_type": "stream",
          "name": "stdout",
          "text": [
            "[2 0 0]\n",
            "[0 4 0]\n",
            "[0 0 6]\n"
          ]
        }
      ]
    },
    {
      "cell_type": "code",
      "source": [
        "# 신경망 방정식의 해 \n",
        "- 계수가 결정 \n",
        "- 데이터가 입력 \n",
        "- 종속변수 (Y) "
      ],
      "metadata": {
        "id": "JJA2F8ag0WwQ"
      },
      "execution_count": null,
      "outputs": []
    },
    {
      "cell_type": "code",
      "source": [
        "  #  2x + x2  -2 x3 = -3\n",
        "  #  3x +     1  x3 =  5\n",
        "  #   x1 +  x2 - x3 = -2 일 때 \n",
        "  # x1, x2, x3의 해를 구하는 방정식의 해를 구하고 있음 "
      ],
      "metadata": {
        "id": "65OF6_1h0hcw"
      },
      "execution_count": null,
      "outputs": []
    },
    {
      "cell_type": "code",
      "source": [
        "A = np.array([[2,1,-2],[3,0,1],[1,1,-1]])\n",
        "b = np.transpose(np.array([[-3,5,-2]])) \n",
        "print(b) \n"
      ],
      "metadata": {
        "colab": {
          "base_uri": "https://localhost:8080/"
        },
        "id": "pxwmWeii06Cr",
        "outputId": "9f4e989a-a008-422e-ea05-a895dfa05ed6"
      },
      "execution_count": 68,
      "outputs": [
        {
          "output_type": "stream",
          "name": "stdout",
          "text": [
            "[[-3]\n",
            " [ 5]\n",
            " [-2]]\n"
          ]
        }
      ]
    },
    {
      "cell_type": "code",
      "source": [
        "x = np.linalg.solve(A,b)\n",
        "x"
      ],
      "metadata": {
        "colab": {
          "base_uri": "https://localhost:8080/"
        },
        "id": "e22y1C1S1J9R",
        "outputId": "ac89e8f1-3cf7-4adc-cb29-ad8bd535e70e"
      },
      "execution_count": 70,
      "outputs": [
        {
          "output_type": "execute_result",
          "data": {
            "text/plain": [
              "array([[ 1.],\n",
              "       [-1.],\n",
              "       [ 2.]])"
            ]
          },
          "metadata": {},
          "execution_count": 70
        }
      ]
    },
    {
      "cell_type": "code",
      "source": [
        "2 * 1 + (-1) + (-2 * 2)"
      ],
      "metadata": {
        "colab": {
          "base_uri": "https://localhost:8080/"
        },
        "id": "sZnylkgv1Sm7",
        "outputId": "4f6b6985-59b9-4232-c7a8-25905174a397"
      },
      "execution_count": 71,
      "outputs": [
        {
          "output_type": "execute_result",
          "data": {
            "text/plain": [
              "-3"
            ]
          },
          "metadata": {},
          "execution_count": 71
        }
      ]
    },
    {
      "cell_type": "code",
      "source": [
        "# A계수행렬 * x변수 = b\n",
        "# 변수 = b/ A계수행렬 \n",
        "# A계수행렬의 역행렬 * b = 변수의 값 \n",
        "np.dot(np.linalg.inv(A),b)"
      ],
      "metadata": {
        "colab": {
          "base_uri": "https://localhost:8080/"
        },
        "id": "GNRFvLXh1mZy",
        "outputId": "cb5cd521-5d6f-4d04-a45d-f34c03076a88"
      },
      "execution_count": 72,
      "outputs": [
        {
          "output_type": "execute_result",
          "data": {
            "text/plain": [
              "array([[ 1.],\n",
              "       [-1.],\n",
              "       [ 2.]])"
            ]
          },
          "metadata": {},
          "execution_count": 72
        }
      ]
    },
    {
      "cell_type": "code",
      "source": [
        "np.linalg.inv(A) @ b"
      ],
      "metadata": {
        "colab": {
          "base_uri": "https://localhost:8080/"
        },
        "id": "Ssk1gNgT2KPi",
        "outputId": "57691220-2f99-4781-a09f-4f3943abd4e5"
      },
      "execution_count": 73,
      "outputs": [
        {
          "output_type": "execute_result",
          "data": {
            "text/plain": [
              "array([[ 1.],\n",
              "       [-1.],\n",
              "       [ 2.]])"
            ]
          },
          "metadata": {},
          "execution_count": 73
        }
      ]
    },
    {
      "cell_type": "code",
      "source": [
        "# 텐서플로우 \n",
        "- node + edge로 구성 => graph \n",
        "- GPU를 기본구조로 해서 텐서플로우를 설계 ( 게임 - GPU )\n",
        "- 과학계산용으로 사용 ( 행렬연산 )\n",
        "- nvidia : CUDA \n",
        "- 구조 \n",
        "  - Constant 상수 \n",
        "  - Variables 변수 : 가중치를 저장하는 변수 - 반드시 초기화되어야 함 ( 행렬곱 : )\n",
        "  - placeholder : 외부주입변수 , 실행시에 feeding \n",
        "     - GPU 프로그램을 저장 ( 처리될 데이터가 실행시점에서 CPU에서 전달함 )\n",
        "     - GPU 메모리 공간 ( 2M )\n",
        "  - 자동으로 데이터 송수신 "
      ],
      "metadata": {
        "id": "dQKfWXM12WqQ"
      },
      "execution_count": null,
      "outputs": []
    },
    {
      "cell_type": "code",
      "source": [
        "def showvalue(t):\n",
        "    sess = tf.InteractiveSession()\n",
        "    tf.global_variables_initializer().run()\n",
        "    print(t.eval())\n",
        "    sess.close()     \n",
        "\n",
        "c2, c3 = tf.constant([1.2, 5.6]), tf.constant([-4, -1, 7])\n",
        "v2, v3 = tf.Variable([2.3, 4.5]), tf.Variable([-2,  3, 5])"
      ],
      "metadata": {
        "id": "2g0P12cZ382q"
      },
      "execution_count": 6,
      "outputs": []
    },
    {
      "cell_type": "code",
      "source": [
        "showvalue(tf.add_n([c2, v2])) \n",
        "showvalue(tf.add_n([c3, v3, v3]))\n",
        "showvalue(tf.abs(c2))\n",
        "showvalue(tf.negative(c2))"
      ],
      "metadata": {
        "colab": {
          "base_uri": "https://localhost:8080/"
        },
        "id": "3t90c3Uv4BB5",
        "outputId": "fb7bc364-64ac-445c-ae4a-ec3bf07d40d9"
      },
      "execution_count": 7,
      "outputs": [
        {
          "output_type": "stream",
          "name": "stdout",
          "text": [
            "[ 3.5 10.1]\n",
            "[-8  5 17]\n",
            "[1.2 5.6]\n",
            "[-1.2 -5.6]\n"
          ]
        }
      ]
    }
  ]
}